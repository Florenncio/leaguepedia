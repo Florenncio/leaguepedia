{
 "cells": [
  {
   "cell_type": "markdown",
   "metadata": {},
   "source": [
    "# Gathering LoLEsports data"
   ]
  },
  {
   "cell_type": "markdown",
   "metadata": {},
   "source": [
    "Following the shutdown of some important API from the lolesports website that allowed us to get hashes to gather data from official matches, the solution is to rely on Leaguepedia which has everything we need."
   ]
  },
  {
   "cell_type": "markdown",
   "metadata": {},
   "source": [
    "We will use the [leaguepdia-parser](https://pypi.org/project/leaguepedia-parser/) package to gather what we need from Leaguepedia."
   ]
  },
  {
   "cell_type": "markdown",
   "metadata": {},
   "source": [
    "## Find the tournament"
   ]
  },
  {
   "cell_type": "code",
   "execution_count": 1,
   "metadata": {},
   "outputs": [
    {
     "data": {
      "text/plain": [
       "['',\n",
       " 'Africa',\n",
       " 'Asia',\n",
       " 'Brazil',\n",
       " 'China',\n",
       " 'CIS',\n",
       " 'Europe',\n",
       " 'International',\n",
       " 'Japan',\n",
       " 'Korea',\n",
       " 'LAN',\n",
       " 'LAS',\n",
       " 'Latin America',\n",
       " 'LMS',\n",
       " 'MENA',\n",
       " 'North America',\n",
       " 'Oceania',\n",
       " 'PCS',\n",
       " 'SEA',\n",
       " 'Turkey',\n",
       " 'Unknown',\n",
       " 'Vietnam',\n",
       " 'Wildcard']"
      ]
     },
     "execution_count": 1,
     "metadata": {},
     "output_type": "execute_result"
    }
   ],
   "source": [
    "import leaguepedia_parser as lp\n",
    "\n",
    "lp.get_regions()"
   ]
  },
  {
   "cell_type": "markdown",
   "metadata": {},
   "source": [
    "Pick your favorite region to get the list of tournaments in this region : "
   ]
  },
  {
   "cell_type": "code",
   "execution_count": 2,
   "metadata": {},
   "outputs": [
    {
     "data": {
      "text/plain": [
       "['LEC 2020 Spring',\n",
       " 'LEC 2020 Spring Playoffs',\n",
       " 'EU Face-Off 2020',\n",
       " 'LEC 2020 Summer',\n",
       " 'LEC 2020 Summer Playoffs']"
      ]
     },
     "execution_count": 2,
     "metadata": {},
     "output_type": "execute_result"
    }
   ],
   "source": [
    "tournaments = lp.get_tournaments('Europe', year=2020)\n",
    "[t[\"name\"] for t in tournaments]"
   ]
  },
  {
   "cell_type": "markdown",
   "metadata": {},
   "source": [
    "We will create a custom method for the leaguepedia_parser to get only the information we need : "
   ]
  },
  {
   "cell_type": "code",
   "execution_count": 3,
   "metadata": {},
   "outputs": [],
   "source": [
    "import types\n",
    "from leaguepedia_parser.site.leaguepedia import leaguepedia\n",
    "\n",
    "def get_games_hashes(self, tournament_name=None, **kwargs):\n",
    "    \"\"\"\n",
    "    Returns the list server, gameId and hashes of games played in a tournament.\n",
    "\n",
    "    :param tournament_name\n",
    "                Name of the tournament, which can be gotten from get_tournaments().\n",
    "    :return:\n",
    "                A list of game dictionaries.\n",
    "    \"\"\"\n",
    "    games = leaguepedia.query(tables='ScoreboardGames',\n",
    "                             fields='Tournament = tournament, '\n",
    "                                    'MatchHistory = match_history_url, ',\n",
    "                             where=\"ScoreboardGames.Tournament='{}'\".format(tournament_name),\n",
    "                             order_by=\"ScoreboardGames.DateTime_UTC\",\n",
    "                             **kwargs)\n",
    "    data = [\n",
    "        {\n",
    "            \"tournament\":game[\"tournament\"],\n",
    "            \"server\":game[\"match_history_url\"].split(\"/\")[5],\n",
    "            \"gameId\":game[\"match_history_url\"].split(\"/\")[6].split(\"?gameHash=\")[0],\n",
    "            \"hash\":game[\"match_history_url\"].split(\"/\")[6].split(\"?gameHash=\")[1],\n",
    "        }\n",
    "        for game in games\n",
    "    ]\n",
    "    return data\n",
    "\n",
    "lp.get_games_hashes = types.MethodType(get_games_hashes, lp)"
   ]
  },
  {
   "cell_type": "markdown",
   "metadata": {},
   "source": [
    "## Getting the hashes"
   ]
  },
  {
   "cell_type": "markdown",
   "metadata": {},
   "source": [
    "Getting the hashes for LEC 2020 Summer : "
   ]
  },
  {
   "cell_type": "code",
   "execution_count": 5,
   "metadata": {},
   "outputs": [
    {
     "data": {
      "text/plain": [
       "[{'tournament': 'LEC 2020 Summer',\n",
       "  'server': 'ESPORTSTMNT04',\n",
       "  'gameId': '1230688',\n",
       "  'hash': '25cb7e1966cbcdb5'},\n",
       " {'tournament': 'LEC 2020 Summer',\n",
       "  'server': 'ESPORTSTMNT04',\n",
       "  'gameId': '1220706',\n",
       "  'hash': 'c3f45e5bb2a65c80'},\n",
       " {'tournament': 'LEC 2020 Summer',\n",
       "  'server': 'ESPORTSTMNT04',\n",
       "  'gameId': '1220728',\n",
       "  'hash': '4bfd5c00f9292be3'}]"
      ]
     },
     "execution_count": 5,
     "metadata": {},
     "output_type": "execute_result"
    }
   ],
   "source": [
    "games = lp.get_games_hashes(tournaments[3]['name'])\n",
    "games[:3]"
   ]
  },
  {
   "cell_type": "markdown",
   "metadata": {},
   "source": [
    "Requesting the match data from all those games : "
   ]
  },
  {
   "cell_type": "code",
   "execution_count": 11,
   "metadata": {},
   "outputs": [],
   "source": [
    "import requests\n",
    "\n",
    "base_match_history_stats_url = \"https://acs.leagueoflegends.com/v1/stats/game/{}/{}?gameHash={}\"\n",
    "base_match_history_stats_timeline_url = \"https://acs.leagueoflegends.com/v1/stats/game/{}/{}/timeline?gameHash={}\"\n",
    "\n",
    "all_games_data = []\n",
    "\n",
    "for g in games:\n",
    "    url = base_match_history_stats_url.format(g[\"server\"],g[\"gameId\"],g[\"hash\"])\n",
    "    timeline_url = base_match_history_stats_timeline_url.format(g[\"server\"],g[\"gameId\"],g[\"hash\"])\n",
    "    \n",
    "    game_data = requests.get(url).json()\n",
    "    game_data[\"timeline\"] = requests.get(timeline_url).json()\n",
    "    \n",
    "    all_games_data.append(game_data)"
   ]
  },
  {
   "cell_type": "markdown",
   "metadata": {},
   "source": [
    "## In need of Cookies"
   ]
  },
  {
   "cell_type": "markdown",
   "metadata": {},
   "source": [
    "ACS is highly rate limited and you might need to authenticate yourself to avoid this."
   ]
  },
  {
   "cell_type": "markdown",
   "metadata": {},
   "source": [
    "For that, you will need to : \n",
    " * Open your browser\n",
    " * Log in League of Legends website (or any one dependent on Riot log in)\n",
    " * Open an acs link (e.g. https://acs.leagueoflegends.com/v1/stats/game/ESPORTSTMNT06/1070986?gameHash=1787d1ea36a382c3 )\n",
    " * Right clic -> Inspect element\n",
    " * Network tab\n",
    " * Select the first item in the network list (might need a refresh with the tab open)\n",
    " * Find the request header\n",
    " * Copy the value of the Cookie header"
   ]
  },
  {
   "cell_type": "markdown",
   "metadata": {},
   "source": [
    "![ACS header](https://canisback.com/images/acs.png)"
   ]
  },
  {
   "cell_type": "markdown",
   "metadata": {},
   "source": [
    "Paste this value in here : "
   ]
  },
  {
   "cell_type": "code",
   "execution_count": 12,
   "metadata": {},
   "outputs": [],
   "source": [
    "cookies = \"\""
   ]
  },
  {
   "cell_type": "code",
   "execution_count": 13,
   "metadata": {},
   "outputs": [],
   "source": [
    "import requests\n",
    "\n",
    "base_match_history_stats_url = \"https://acs.leagueoflegends.com/v1/stats/game/{}/{}?gameHash={}\"\n",
    "base_match_history_stats_timeline_url = \"https://acs.leagueoflegends.com/v1/stats/game/{}/{}/timeline?gameHash={}\"\n",
    "\n",
    "all_games_data = []\n",
    "\n",
    "for g in games:\n",
    "    url = base_match_history_stats_url.format(g[\"server\"],g[\"gameId\"],g[\"hash\"])\n",
    "    timeline_url = base_match_history_stats_timeline_url.format(g[\"server\"],g[\"gameId\"],g[\"hash\"])\n",
    "    \n",
    "    game_data = requests.get(url,  cookies={c.split(\"=\")[0]:c.split(\"=\")[1] for c in cookies.split(\";\")}).json()\n",
    "    game_data[\"timeline\"] = requests.get(timeline_url,  cookies={c.split(\"=\")[0]:c.split(\"=\")[1] for c in cookies.split(\";\")}).json()\n",
    "    \n",
    "    all_games_data.append(game_data)"
   ]
  },
  {
   "cell_type": "code",
   "execution_count": 14,
   "metadata": {},
   "outputs": [
    {
     "data": {
      "text/plain": [
       "[{'participantId': 1,\n",
       "  'player': {'summonerName': 'G2 Wunder', 'profileIcon': 29}},\n",
       " {'participantId': 2,\n",
       "  'player': {'summonerName': 'G2 Jankos', 'profileIcon': 29}},\n",
       " {'participantId': 3,\n",
       "  'player': {'summonerName': 'G2 Caps', 'profileIcon': 29}},\n",
       " {'participantId': 4,\n",
       "  'player': {'summonerName': 'G2 Perkz', 'profileIcon': 29}},\n",
       " {'participantId': 5,\n",
       "  'player': {'summonerName': 'G2 Mikyx', 'profileIcon': 29}},\n",
       " {'participantId': 6,\n",
       "  'player': {'summonerName': 'MAD Orome', 'profileIcon': 29}},\n",
       " {'participantId': 7,\n",
       "  'player': {'summonerName': 'MAD Shad0w', 'profileIcon': 29}},\n",
       " {'participantId': 8,\n",
       "  'player': {'summonerName': 'MAD Humanoid', 'profileIcon': 29}},\n",
       " {'participantId': 9,\n",
       "  'player': {'summonerName': 'MAD Carzzy', 'profileIcon': 29}},\n",
       " {'participantId': 10,\n",
       "  'player': {'summonerName': 'MAD Kaiser', 'profileIcon': 29}}]"
      ]
     },
     "execution_count": 14,
     "metadata": {},
     "output_type": "execute_result"
    }
   ],
   "source": [
    "all_games_data[0][\"participantIdentities\"]"
   ]
  },
  {
   "cell_type": "markdown",
   "metadata": {},
   "source": [
    "Now you have all the match data you need, in the same format as the Riot Games API matches."
   ]
  },
  {
   "cell_type": "code",
   "execution_count": null,
   "metadata": {},
   "outputs": [],
   "source": []
  }
 ],
 "metadata": {
  "kernelspec": {
   "display_name": "Python 3.8",
   "language": "python",
   "name": "python38"
  },
  "language_info": {
   "codemirror_mode": {
    "name": "ipython",
    "version": 3
   },
   "file_extension": ".py",
   "mimetype": "text/x-python",
   "name": "python",
   "nbconvert_exporter": "python",
   "pygments_lexer": "ipython3",
   "version": "3.8.2"
  }
 },
 "nbformat": 4,
 "nbformat_minor": 4
}
